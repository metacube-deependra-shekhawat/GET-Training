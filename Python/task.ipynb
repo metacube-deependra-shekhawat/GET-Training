{
 "cells": [
  {
   "cell_type": "code",
   "execution_count": 13,
   "metadata": {},
   "outputs": [],
   "source": [
    "import numpy as np\n",
    "import pandas as pd\n",
    "import matplotlib.pyplot as plt\n",
    "from scipy import stats"
   ]
  },
  {
   "cell_type": "code",
   "execution_count": 14,
   "metadata": {},
   "outputs": [],
   "source": [
    "# Reading the files\n",
    "employees = pd.read_csv(\"employees.csv\")\n",
    "performance = pd.read_csv(\"performance.csv\")"
   ]
  },
  {
   "cell_type": "code",
   "execution_count": 15,
   "metadata": {},
   "outputs": [],
   "source": [
    "# Checking for Null/Missing values\n",
    "employees.dropna(inplace=True)\n",
    "performance.dropna(inplace=True)"
   ]
  },
  {
   "cell_type": "code",
   "execution_count": 16,
   "metadata": {},
   "outputs": [],
   "source": [
    "# Changing to DateTime format\n",
    "employees['DateOfJoining'] = pd.to_datetime(employees['DateOfJoining'], format='%Y-%m-%d')\n",
    "performance['Month'] = pd.to_datetime(performance['Month'], format='%Y-%m')"
   ]
  },
  {
   "cell_type": "code",
   "execution_count": 17,
   "metadata": {},
   "outputs": [
    {
     "name": "stdout",
     "output_type": "stream",
     "text": [
      "  EmployeeID         Name Department DateOfJoining  Tenure\n",
      "0       E001     John Doe      Sales    2020-05-15   57.13\n",
      "1       E002   Jane Smith  Marketing    2019-03-10   71.53\n",
      "2       E003   Sam Wilson         IT    2021-08-20   41.73\n",
      "3       E004  Susan Brown      Sales    2018-07-25   79.13\n",
      "4       E005  Michael Lee    Finance    2017-12-05   86.87\n"
     ]
    }
   ],
   "source": [
    "# Calculating Tenure of Employees\n",
    "now = pd.Timestamp.now()\n",
    "employees['Tenure'] = ((now - employees['DateOfJoining']).dt.days / 30).round(2)\n",
    "print(employees)"
   ]
  },
  {
   "cell_type": "code",
   "execution_count": 24,
   "metadata": {},
   "outputs": [
    {
     "name": "stdout",
     "output_type": "stream",
     "text": [
      "  EmployeeID         Name Department DateOfJoining  Tenure  AverageSales  \\\n",
      "0       E001     John Doe      Sales    2020-05-15   57.13        4900.0   \n",
      "1       E001     John Doe      Sales    2020-05-15   57.13        4900.0   \n",
      "2       E002   Jane Smith  Marketing    2019-03-10   71.53        4900.0   \n",
      "3       E003   Sam Wilson         IT    2021-08-20   41.73        3000.0   \n",
      "4       E003   Sam Wilson         IT    2021-08-20   41.73        3000.0   \n",
      "5       E004  Susan Brown      Sales    2018-07-25   79.13        6750.0   \n",
      "6       E004  Susan Brown      Sales    2018-07-25   79.13        6750.0   \n",
      "7       E005  Michael Lee    Finance    2017-12-05   86.87        6750.0   \n",
      "\n",
      "   AverageHoursWorked  AverageClientSatScore      Month  Sales  HoursWorked  \\\n",
      "0               155.0                    8.5 2024-12-01   5000          160   \n",
      "1               155.0                    8.5 2024-11-01   4800          150   \n",
      "2               155.0                    8.5 2024-12-01   3000          170   \n",
      "3               170.0                    7.0 2024-12-01   7000          200   \n",
      "4               170.0                    7.0 2024-11-01   6500          190   \n",
      "5               195.0                    9.5 2024-12-01   2000          140   \n",
      "6               195.0                    9.5 2024-11-01   2200          145   \n",
      "7               195.0                    9.5 2024-12-01   4000          180   \n",
      "\n",
      "   ClientSatisfactionScore  \n",
      "0                        8  \n",
      "1                        9  \n",
      "2                        7  \n",
      "3                       10  \n",
      "4                        9  \n",
      "5                        6  \n",
      "6                        5  \n",
      "7                        8  \n"
     ]
    }
   ],
   "source": [
    "# Merging the tables\n",
    "mergedTable = pd.merge(employees,performance, on='EmployeeID', how=\"inner\")\n",
    "print(mergedTable)"
   ]
  },
  {
   "cell_type": "code",
   "execution_count": 19,
   "metadata": {},
   "outputs": [
    {
     "name": "stdout",
     "output_type": "stream",
     "text": [
      "  EmployeeID         Name Department DateOfJoining  Tenure  AverageSales  \\\n",
      "0       E001     John Doe      Sales    2020-05-15   57.13        4900.0   \n",
      "1       E002   Jane Smith  Marketing    2019-03-10   71.53        4900.0   \n",
      "2       E003   Sam Wilson         IT    2021-08-20   41.73        3000.0   \n",
      "3       E004  Susan Brown      Sales    2018-07-25   79.13        6750.0   \n",
      "4       E005  Michael Lee    Finance    2017-12-05   86.87        6750.0   \n",
      "\n",
      "   AverageHoursWorked  AverageClientSatScore  \n",
      "0               155.0                    8.5  \n",
      "1               155.0                    8.5  \n",
      "2               170.0                    7.0  \n",
      "3               195.0                    9.5  \n",
      "4               195.0                    9.5  \n"
     ]
    }
   ],
   "source": [
    "# Average Metrics Calculation\n",
    "employees['AverageSales'] = mergedTable.groupby([\"EmployeeID\"])['Sales'].transform('mean')\n",
    "employees['AverageHoursWorked'] = mergedTable.groupby([\"EmployeeID\"])['HoursWorked'].transform('mean')\n",
    "employees['AverageClientSatScore'] = mergedTable.groupby([\"EmployeeID\"])['ClientSatisfactionScore'].transform('mean')\n",
    "print(employees)"
   ]
  },
  {
   "cell_type": "code",
   "execution_count": 20,
   "metadata": {},
   "outputs": [
    {
     "name": "stdout",
     "output_type": "stream",
     "text": [
      "  EmployeeID         Name Department DateOfJoining  Tenure  AverageSales  \\\n",
      "4       E005  Michael Lee    Finance    2017-12-05   86.87        6750.0   \n",
      "3       E004  Susan Brown      Sales    2018-07-25   79.13        6750.0   \n",
      "0       E001     John Doe      Sales    2020-05-15   57.13        4900.0   \n",
      "1       E002   Jane Smith  Marketing    2019-03-10   71.53        4900.0   \n",
      "2       E003   Sam Wilson         IT    2021-08-20   41.73        3000.0   \n",
      "\n",
      "   AverageHoursWorked  AverageClientSatScore  \n",
      "4               195.0                    9.5  \n",
      "3               195.0                    9.5  \n",
      "0               155.0                    8.5  \n",
      "1               155.0                    8.5  \n",
      "2               170.0                    7.0  \n",
      "Department\n",
      "Sales        28\n",
      "IT           19\n",
      "Finance       8\n",
      "Marketing     7\n",
      "Name: ClientSatisfactionScore, dtype: int64\n"
     ]
    }
   ],
   "source": [
    "# Top 5 Employees with highest average sales\n",
    "top5Emp = employees.sort_values(\"AverageSales\", ascending=False).head(5)\n",
    "deptWithHighestScore = mergedTable.groupby(['Department'])['ClientSatisfactionScore'].apply('sum').sort_values(ascending=False)\n",
    "print(top5Emp)\n",
    "print(deptWithHighestScore)"
   ]
  },
  {
   "cell_type": "code",
   "execution_count": 21,
   "metadata": {},
   "outputs": [
    {
     "name": "stdout",
     "output_type": "stream",
     "text": [
      "  EmployeeID         Name Department DateOfJoining  Tenure      Month  Sales  \\\n",
      "3       E003   Sam Wilson         IT    2021-08-20   41.73 2024-12-01   7000   \n",
      "5       E004  Susan Brown      Sales    2018-07-25   79.13 2024-12-01   2000   \n",
      "6       E004  Susan Brown      Sales    2018-07-25   79.13 2024-11-01   2200   \n",
      "\n",
      "   HoursWorked  ClientSatisfactionScore  \n",
      "3          200                       10  \n",
      "5          140                        6  \n",
      "6          145                        5  \n"
     ]
    }
   ],
   "source": [
    "# Calculating Z-Score and outliers\n",
    "z = np.abs(stats.zscore(mergedTable['ClientSatisfactionScore']))\n",
    "threshold = 0.9\n",
    "outlier = mergedTable[z > threshold]\n",
    "print(outlier)"
   ]
  },
  {
   "cell_type": "code",
   "execution_count": 26,
   "metadata": {},
   "outputs": [
    {
     "data": {
      "image/png": "[encoded data removed]",
      "text/plain": [
       "<Figure size 640x480 with 1 Axes>"
      ]
     },
     "metadata": {},
     "output_type": "display_data"
    }
   ],
   "source": [
    "# Histogram of sales\n",
    "plt.hist(mergedTable['Sales'])\n",
    "plt.show()"
   ]
  },
  {
   "cell_type": "code",
   "execution_count": null,
   "metadata": {},
   "outputs": [
    {
     "data": {
      "image/png": "[encoded data removed]",
      "text/plain": [
       "<Figure size 640x480 with 1 Axes>"
      ]
     },
     "metadata": {},
     "output_type": "display_data"
    }
   ],
   "source": [
    "# Bar chart b/w Departments and their average sales\n",
    "deptAvgSales = employees.groupby(['Department'])['AverageSales'].mean()\n",
    "# deptAvgSales.plot(kind='bar')\n",
    "# print(deptAvgSales)\n",
    "# print(deptAvgSales.index)\n",
    "# print(deptAvgSales.values)\n",
    "plt.bar(deptAvgSales.index, deptAvgSales.values)\n",
    "plt.xlabel(\"Department\")\n",
    "plt.ylabel(\"Average Sales\")\n",
    "plt.show()"
   ]
  }
 ],
 "metadata": {
  "kernelspec": {
   "display_name": "Python 3",
   "language": "python",
   "name": "python3"
  },
  "language_info": {
   "codemirror_mode": {
    "name": "ipython",
    "version": 3
   },
   "file_extension": ".py",
   "mimetype": "text/x-python",
   "name": "python",
   "nbconvert_exporter": "python",
   "pygments_lexer": "ipython3",
   "version": "3.13.1"
  }
 },
 "nbformat": 4,
 "nbformat_minor": 2
}
